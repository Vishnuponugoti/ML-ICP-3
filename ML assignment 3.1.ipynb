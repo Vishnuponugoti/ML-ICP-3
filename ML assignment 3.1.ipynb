{
 "cells": [
  {
   "cell_type": "code",
   "execution_count": 2,
   "id": "8858dc04",
   "metadata": {},
   "outputs": [
    {
     "name": "stdout",
     "output_type": "stream",
     "text": [
      "Array shape: (3, 5)\n",
      "Array shape: (4, 3)\n",
      "Array type: <class 'numpy.ndarray'>\n",
      "Array data type: int32\n"
     ]
    }
   ],
   "source": [
    "#1.a\n",
    "import numpy as np\n",
    "\n",
    "# Creating random vector of size 15 with integers in the range 1-20\n",
    "vec = np.random.randint(low=1, high=21, size=15)\n",
    "\n",
    "# Reshaping the vector to 3x5 array\n",
    "arr = vec.reshape(3, 5)\n",
    "\n",
    "# Printing the array shape\n",
    "print(\"Array shape:\", arr.shape)\n",
    "\n",
    "# Replacing max in each row with 0\n",
    "arr[np.arange(len(arr)), np.argmax(arr, axis=1)] = 0\n",
    "\n",
    "# Creating a 4x3 array of 4-byte integers\n",
    "arr_2d = np.zeros((4, 3), dtype=np.int32)\n",
    "\n",
    "# Printing the shape, type and data type of the array\n",
    "print(\"Array shape:\", arr_2d.shape)\n",
    "print(\"Array type:\", type(arr_2d))\n",
    "print(\"Array data type:\", arr_2d.dtype)"
   ]
  },
  {
   "cell_type": "code",
   "execution_count": 6,
   "id": "edfee35d",
   "metadata": {},
   "outputs": [
    {
     "name": "stdout",
     "output_type": "stream",
     "text": [
      "Eigenvalues: [2. 1.]\n",
      "Right Eigenvectors:\n",
      " [[0.89442719 0.70710678]\n",
      " [0.4472136  0.70710678]]\n"
     ]
    }
   ],
   "source": [
    "# 1.b\n",
    "# Defining the square array\n",
    "arr = np.array([[3, -2], [1, 0]])\n",
    "\n",
    "# Computing the eigenvalues and right eigenvectors\n",
    "eigenvalues, eigenvectors = np.linalg.eig(arr)\n",
    "\n",
    "# Printing the eigenvalues and right eigenvectors\n",
    "print(\"Eigenvalues:\", eigenvalues)\n",
    "print(\"Right Eigenvectors:\\n\", eigenvectors)\n"
   ]
  },
  {
   "cell_type": "code",
   "execution_count": 7,
   "id": "124f1b69",
   "metadata": {},
   "outputs": [
    {
     "name": "stdout",
     "output_type": "stream",
     "text": [
      "Sum of diagonal elements: 4\n"
     ]
    }
   ],
   "source": [
    "# 1.c\n",
    "# Defining the given array\n",
    "arr = np.array([[0, 1, 2], [3, 4, 5]])\n",
    "\n",
    "# Computing the sum of the diagonal elements\n",
    "diag_sum = np.trace(arr)\n",
    "\n",
    "# Printing the sum of the diagonal elements\n",
    "print(\"Sum of diagonal elements:\", diag_sum)\n"
   ]
  },
  {
   "cell_type": "code",
   "execution_count": 12,
   "id": "f755faff",
   "metadata": {},
   "outputs": [
    {
     "name": "stdout",
     "output_type": "stream",
     "text": [
      "Original Array:\n",
      " [[1 2]\n",
      " [3 4]\n",
      " [5 6]]\n",
      "Reshaped Array (2x3):\n",
      " [[1 2 3]\n",
      " [4 5 6]]\n",
      "Reshaped Array (3x2):\n",
      " [[1 2]\n",
      " [3 4]\n",
      " [5 6]]\n"
     ]
    }
   ],
   "source": [
    "# 1.d\n",
    "# Define the array\n",
    "arr = np.array([[1, 2], [3, 4], [5, 6]])\n",
    "\n",
    "# Reshape the array to 2x3\n",
    "arr_2x3 = np.reshape(arr, (2, 3))\n",
    "\n",
    "# Reshape the array back to 3x2\n",
    "arr_3x2 = np.reshape(arr_2x3, (3, 2))\n",
    "\n",
    "# Print the original array and the reshaped arrays\n",
    "print(\"Original Array:\\n\", arr)\n",
    "print(\"Reshaped Array (2x3):\\n\", arr_2x3)\n",
    "print(\"Reshaped Array (3x2):\\n\", arr_3x2)"
   ]
  },
  {
   "cell_type": "code",
   "execution_count": null,
   "id": "89b94e58",
   "metadata": {},
   "outputs": [],
   "source": []
  }
 ],
 "metadata": {
  "kernelspec": {
   "display_name": "Python 3 (ipykernel)",
   "language": "python",
   "name": "python3"
  },
  "language_info": {
   "codemirror_mode": {
    "name": "ipython",
    "version": 3
   },
   "file_extension": ".py",
   "mimetype": "text/x-python",
   "name": "python",
   "nbconvert_exporter": "python",
   "pygments_lexer": "ipython3",
   "version": "3.11.1"
  }
 },
 "nbformat": 4,
 "nbformat_minor": 5
}
